{
  "nbformat": 4,
  "nbformat_minor": 0,
  "metadata": {
    "colab": {
      "name": "Adult.ipynb",
      "provenance": [],
      "collapsed_sections": [
        "6fX_V8Pw6vub"
      ],
      "authorship_tag": "ABX9TyOjoY1Tb+yZVfKUknp3unEo"
    },
    "kernelspec": {
      "name": "python3",
      "display_name": "Python 3"
    },
    "language_info": {
      "name": "python"
    }
  },
  "cells": [
    {
      "cell_type": "markdown",
      "source": [
        "## 1.0 Bibliotecas"
      ],
      "metadata": {
        "id": "6U6tyu9qI88X"
      }
    },
    {
      "cell_type": "code",
      "execution_count": 141,
      "metadata": {
        "id": "27TStuqq6Wis"
      },
      "outputs": [],
      "source": [
        "import numpy               as np\n",
        "import pandas              as pd\n",
        "import matplotlib.pyplot   as plt\n",
        "import seaborn             as sn\n",
        "import scipy.stats         as stats\n",
        "\n",
        "\n",
        "from sklearn.preprocessing        import OneHotEncoder\n",
        "from sklearn.model_selection      import train_test_split\n",
        "from statsmodels.stats.proportion import proportions_ztest, proportion_confint\n",
        "\n",
        "from google.colab                 import drive\n",
        "\n",
        "import warnings\n",
        "warnings.filterwarnings(\"ignore\")"
      ]
    },
    {
      "cell_type": "markdown",
      "source": [
        "## 2.0 Leitura e importação de registros"
      ],
      "metadata": {
        "id": "o_uGtxiXI_1Z"
      }
    },
    {
      "cell_type": "code",
      "source": [
        "drive.mount('/content/gdrive')"
      ],
      "metadata": {
        "colab": {
          "base_uri": "https://localhost:8080/"
        },
        "id": "658bJB4r6-nk",
        "outputId": "21e4cca1-cee9-436b-8ba2-da3448777b97"
      },
      "execution_count": 111,
      "outputs": [
        {
          "output_type": "stream",
          "name": "stdout",
          "text": [
            "Drive already mounted at /content/gdrive; to attempt to forcibly remount, call drive.mount(\"/content/gdrive\", force_remount=True).\n"
          ]
        }
      ]
    },
    {
      "cell_type": "code",
      "source": [
        "df = pd.read_csv('/content/gdrive/MyDrive/Datasets/AdultIncome/adult.csv')\n",
        "df.head()"
      ],
      "metadata": {
        "id": "xtAaDnJA69-W",
        "colab": {
          "base_uri": "https://localhost:8080/",
          "height": 206
        },
        "outputId": "f3b7dba1-8d7f-4e50-d5fc-654739da30fa"
      },
      "execution_count": 112,
      "outputs": [
        {
          "output_type": "execute_result",
          "data": {
            "text/plain": [
              "   age workclass  fnlwgt     education  education.num marital.status  \\\n",
              "0   90         ?   77053       HS-grad              9        Widowed   \n",
              "1   82   Private  132870       HS-grad              9        Widowed   \n",
              "2   66         ?  186061  Some-college             10        Widowed   \n",
              "3   54   Private  140359       7th-8th              4       Divorced   \n",
              "4   41   Private  264663  Some-college             10      Separated   \n",
              "\n",
              "          occupation   relationship   race     sex  capital.gain  \\\n",
              "0                  ?  Not-in-family  White  Female             0   \n",
              "1    Exec-managerial  Not-in-family  White  Female             0   \n",
              "2                  ?      Unmarried  Black  Female             0   \n",
              "3  Machine-op-inspct      Unmarried  White  Female             0   \n",
              "4     Prof-specialty      Own-child  White  Female             0   \n",
              "\n",
              "   capital.loss  hours.per.week native.country income  \n",
              "0          4356              40  United-States  <=50K  \n",
              "1          4356              18  United-States  <=50K  \n",
              "2          4356              40  United-States  <=50K  \n",
              "3          3900              40  United-States  <=50K  \n",
              "4          3900              40  United-States  <=50K  "
            ],
            "text/html": [
              "\n",
              "  <div id=\"df-7964bcb0-37fb-45c0-a594-359388339183\">\n",
              "    <div class=\"colab-df-container\">\n",
              "      <div>\n",
              "<style scoped>\n",
              "    .dataframe tbody tr th:only-of-type {\n",
              "        vertical-align: middle;\n",
              "    }\n",
              "\n",
              "    .dataframe tbody tr th {\n",
              "        vertical-align: top;\n",
              "    }\n",
              "\n",
              "    .dataframe thead th {\n",
              "        text-align: right;\n",
              "    }\n",
              "</style>\n",
              "<table border=\"1\" class=\"dataframe\">\n",
              "  <thead>\n",
              "    <tr style=\"text-align: right;\">\n",
              "      <th></th>\n",
              "      <th>age</th>\n",
              "      <th>workclass</th>\n",
              "      <th>fnlwgt</th>\n",
              "      <th>education</th>\n",
              "      <th>education.num</th>\n",
              "      <th>marital.status</th>\n",
              "      <th>occupation</th>\n",
              "      <th>relationship</th>\n",
              "      <th>race</th>\n",
              "      <th>sex</th>\n",
              "      <th>capital.gain</th>\n",
              "      <th>capital.loss</th>\n",
              "      <th>hours.per.week</th>\n",
              "      <th>native.country</th>\n",
              "      <th>income</th>\n",
              "    </tr>\n",
              "  </thead>\n",
              "  <tbody>\n",
              "    <tr>\n",
              "      <th>0</th>\n",
              "      <td>90</td>\n",
              "      <td>?</td>\n",
              "      <td>77053</td>\n",
              "      <td>HS-grad</td>\n",
              "      <td>9</td>\n",
              "      <td>Widowed</td>\n",
              "      <td>?</td>\n",
              "      <td>Not-in-family</td>\n",
              "      <td>White</td>\n",
              "      <td>Female</td>\n",
              "      <td>0</td>\n",
              "      <td>4356</td>\n",
              "      <td>40</td>\n",
              "      <td>United-States</td>\n",
              "      <td>&lt;=50K</td>\n",
              "    </tr>\n",
              "    <tr>\n",
              "      <th>1</th>\n",
              "      <td>82</td>\n",
              "      <td>Private</td>\n",
              "      <td>132870</td>\n",
              "      <td>HS-grad</td>\n",
              "      <td>9</td>\n",
              "      <td>Widowed</td>\n",
              "      <td>Exec-managerial</td>\n",
              "      <td>Not-in-family</td>\n",
              "      <td>White</td>\n",
              "      <td>Female</td>\n",
              "      <td>0</td>\n",
              "      <td>4356</td>\n",
              "      <td>18</td>\n",
              "      <td>United-States</td>\n",
              "      <td>&lt;=50K</td>\n",
              "    </tr>\n",
              "    <tr>\n",
              "      <th>2</th>\n",
              "      <td>66</td>\n",
              "      <td>?</td>\n",
              "      <td>186061</td>\n",
              "      <td>Some-college</td>\n",
              "      <td>10</td>\n",
              "      <td>Widowed</td>\n",
              "      <td>?</td>\n",
              "      <td>Unmarried</td>\n",
              "      <td>Black</td>\n",
              "      <td>Female</td>\n",
              "      <td>0</td>\n",
              "      <td>4356</td>\n",
              "      <td>40</td>\n",
              "      <td>United-States</td>\n",
              "      <td>&lt;=50K</td>\n",
              "    </tr>\n",
              "    <tr>\n",
              "      <th>3</th>\n",
              "      <td>54</td>\n",
              "      <td>Private</td>\n",
              "      <td>140359</td>\n",
              "      <td>7th-8th</td>\n",
              "      <td>4</td>\n",
              "      <td>Divorced</td>\n",
              "      <td>Machine-op-inspct</td>\n",
              "      <td>Unmarried</td>\n",
              "      <td>White</td>\n",
              "      <td>Female</td>\n",
              "      <td>0</td>\n",
              "      <td>3900</td>\n",
              "      <td>40</td>\n",
              "      <td>United-States</td>\n",
              "      <td>&lt;=50K</td>\n",
              "    </tr>\n",
              "    <tr>\n",
              "      <th>4</th>\n",
              "      <td>41</td>\n",
              "      <td>Private</td>\n",
              "      <td>264663</td>\n",
              "      <td>Some-college</td>\n",
              "      <td>10</td>\n",
              "      <td>Separated</td>\n",
              "      <td>Prof-specialty</td>\n",
              "      <td>Own-child</td>\n",
              "      <td>White</td>\n",
              "      <td>Female</td>\n",
              "      <td>0</td>\n",
              "      <td>3900</td>\n",
              "      <td>40</td>\n",
              "      <td>United-States</td>\n",
              "      <td>&lt;=50K</td>\n",
              "    </tr>\n",
              "  </tbody>\n",
              "</table>\n",
              "</div>\n",
              "      <button class=\"colab-df-convert\" onclick=\"convertToInteractive('df-7964bcb0-37fb-45c0-a594-359388339183')\"\n",
              "              title=\"Convert this dataframe to an interactive table.\"\n",
              "              style=\"display:none;\">\n",
              "        \n",
              "  <svg xmlns=\"http://www.w3.org/2000/svg\" height=\"24px\"viewBox=\"0 0 24 24\"\n",
              "       width=\"24px\">\n",
              "    <path d=\"M0 0h24v24H0V0z\" fill=\"none\"/>\n",
              "    <path d=\"M18.56 5.44l.94 2.06.94-2.06 2.06-.94-2.06-.94-.94-2.06-.94 2.06-2.06.94zm-11 1L8.5 8.5l.94-2.06 2.06-.94-2.06-.94L8.5 2.5l-.94 2.06-2.06.94zm10 10l.94 2.06.94-2.06 2.06-.94-2.06-.94-.94-2.06-.94 2.06-2.06.94z\"/><path d=\"M17.41 7.96l-1.37-1.37c-.4-.4-.92-.59-1.43-.59-.52 0-1.04.2-1.43.59L10.3 9.45l-7.72 7.72c-.78.78-.78 2.05 0 2.83L4 21.41c.39.39.9.59 1.41.59.51 0 1.02-.2 1.41-.59l7.78-7.78 2.81-2.81c.8-.78.8-2.07 0-2.86zM5.41 20L4 18.59l7.72-7.72 1.47 1.35L5.41 20z\"/>\n",
              "  </svg>\n",
              "      </button>\n",
              "      \n",
              "  <style>\n",
              "    .colab-df-container {\n",
              "      display:flex;\n",
              "      flex-wrap:wrap;\n",
              "      gap: 12px;\n",
              "    }\n",
              "\n",
              "    .colab-df-convert {\n",
              "      background-color: #E8F0FE;\n",
              "      border: none;\n",
              "      border-radius: 50%;\n",
              "      cursor: pointer;\n",
              "      display: none;\n",
              "      fill: #1967D2;\n",
              "      height: 32px;\n",
              "      padding: 0 0 0 0;\n",
              "      width: 32px;\n",
              "    }\n",
              "\n",
              "    .colab-df-convert:hover {\n",
              "      background-color: #E2EBFA;\n",
              "      box-shadow: 0px 1px 2px rgba(60, 64, 67, 0.3), 0px 1px 3px 1px rgba(60, 64, 67, 0.15);\n",
              "      fill: #174EA6;\n",
              "    }\n",
              "\n",
              "    [theme=dark] .colab-df-convert {\n",
              "      background-color: #3B4455;\n",
              "      fill: #D2E3FC;\n",
              "    }\n",
              "\n",
              "    [theme=dark] .colab-df-convert:hover {\n",
              "      background-color: #434B5C;\n",
              "      box-shadow: 0px 1px 3px 1px rgba(0, 0, 0, 0.15);\n",
              "      filter: drop-shadow(0px 1px 2px rgba(0, 0, 0, 0.3));\n",
              "      fill: #FFFFFF;\n",
              "    }\n",
              "  </style>\n",
              "\n",
              "      <script>\n",
              "        const buttonEl =\n",
              "          document.querySelector('#df-7964bcb0-37fb-45c0-a594-359388339183 button.colab-df-convert');\n",
              "        buttonEl.style.display =\n",
              "          google.colab.kernel.accessAllowed ? 'block' : 'none';\n",
              "\n",
              "        async function convertToInteractive(key) {\n",
              "          const element = document.querySelector('#df-7964bcb0-37fb-45c0-a594-359388339183');\n",
              "          const dataTable =\n",
              "            await google.colab.kernel.invokeFunction('convertToInteractive',\n",
              "                                                     [key], {});\n",
              "          if (!dataTable) return;\n",
              "\n",
              "          const docLinkHtml = 'Like what you see? Visit the ' +\n",
              "            '<a target=\"_blank\" href=https://colab.research.google.com/notebooks/data_table.ipynb>data table notebook</a>'\n",
              "            + ' to learn more about interactive tables.';\n",
              "          element.innerHTML = '';\n",
              "          dataTable['output_type'] = 'display_data';\n",
              "          await google.colab.output.renderOutput(dataTable, element);\n",
              "          const docLink = document.createElement('div');\n",
              "          docLink.innerHTML = docLinkHtml;\n",
              "          element.appendChild(docLink);\n",
              "        }\n",
              "      </script>\n",
              "    </div>\n",
              "  </div>\n",
              "  "
            ]
          },
          "metadata": {},
          "execution_count": 112
        }
      ]
    },
    {
      "cell_type": "code",
      "source": [
        "df.tail()"
      ],
      "metadata": {
        "colab": {
          "base_uri": "https://localhost:8080/",
          "height": 206
        },
        "id": "L0bcGG-EIAlf",
        "outputId": "95ae5979-fec2-4c96-d2e4-c1b16a5eb360"
      },
      "execution_count": 113,
      "outputs": [
        {
          "output_type": "execute_result",
          "data": {
            "text/plain": [
              "       age workclass  fnlwgt     education  education.num      marital.status  \\\n",
              "32556   22   Private  310152  Some-college             10       Never-married   \n",
              "32557   27   Private  257302    Assoc-acdm             12  Married-civ-spouse   \n",
              "32558   40   Private  154374       HS-grad              9  Married-civ-spouse   \n",
              "32559   58   Private  151910       HS-grad              9             Widowed   \n",
              "32560   22   Private  201490       HS-grad              9       Never-married   \n",
              "\n",
              "              occupation   relationship   race     sex  capital.gain  \\\n",
              "32556    Protective-serv  Not-in-family  White    Male             0   \n",
              "32557       Tech-support           Wife  White  Female             0   \n",
              "32558  Machine-op-inspct        Husband  White    Male             0   \n",
              "32559       Adm-clerical      Unmarried  White  Female             0   \n",
              "32560       Adm-clerical      Own-child  White    Male             0   \n",
              "\n",
              "       capital.loss  hours.per.week native.country income  \n",
              "32556             0              40  United-States  <=50K  \n",
              "32557             0              38  United-States  <=50K  \n",
              "32558             0              40  United-States   >50K  \n",
              "32559             0              40  United-States  <=50K  \n",
              "32560             0              20  United-States  <=50K  "
            ],
            "text/html": [
              "\n",
              "  <div id=\"df-e22d19a6-002c-40bb-af66-275c4205209d\">\n",
              "    <div class=\"colab-df-container\">\n",
              "      <div>\n",
              "<style scoped>\n",
              "    .dataframe tbody tr th:only-of-type {\n",
              "        vertical-align: middle;\n",
              "    }\n",
              "\n",
              "    .dataframe tbody tr th {\n",
              "        vertical-align: top;\n",
              "    }\n",
              "\n",
              "    .dataframe thead th {\n",
              "        text-align: right;\n",
              "    }\n",
              "</style>\n",
              "<table border=\"1\" class=\"dataframe\">\n",
              "  <thead>\n",
              "    <tr style=\"text-align: right;\">\n",
              "      <th></th>\n",
              "      <th>age</th>\n",
              "      <th>workclass</th>\n",
              "      <th>fnlwgt</th>\n",
              "      <th>education</th>\n",
              "      <th>education.num</th>\n",
              "      <th>marital.status</th>\n",
              "      <th>occupation</th>\n",
              "      <th>relationship</th>\n",
              "      <th>race</th>\n",
              "      <th>sex</th>\n",
              "      <th>capital.gain</th>\n",
              "      <th>capital.loss</th>\n",
              "      <th>hours.per.week</th>\n",
              "      <th>native.country</th>\n",
              "      <th>income</th>\n",
              "    </tr>\n",
              "  </thead>\n",
              "  <tbody>\n",
              "    <tr>\n",
              "      <th>32556</th>\n",
              "      <td>22</td>\n",
              "      <td>Private</td>\n",
              "      <td>310152</td>\n",
              "      <td>Some-college</td>\n",
              "      <td>10</td>\n",
              "      <td>Never-married</td>\n",
              "      <td>Protective-serv</td>\n",
              "      <td>Not-in-family</td>\n",
              "      <td>White</td>\n",
              "      <td>Male</td>\n",
              "      <td>0</td>\n",
              "      <td>0</td>\n",
              "      <td>40</td>\n",
              "      <td>United-States</td>\n",
              "      <td>&lt;=50K</td>\n",
              "    </tr>\n",
              "    <tr>\n",
              "      <th>32557</th>\n",
              "      <td>27</td>\n",
              "      <td>Private</td>\n",
              "      <td>257302</td>\n",
              "      <td>Assoc-acdm</td>\n",
              "      <td>12</td>\n",
              "      <td>Married-civ-spouse</td>\n",
              "      <td>Tech-support</td>\n",
              "      <td>Wife</td>\n",
              "      <td>White</td>\n",
              "      <td>Female</td>\n",
              "      <td>0</td>\n",
              "      <td>0</td>\n",
              "      <td>38</td>\n",
              "      <td>United-States</td>\n",
              "      <td>&lt;=50K</td>\n",
              "    </tr>\n",
              "    <tr>\n",
              "      <th>32558</th>\n",
              "      <td>40</td>\n",
              "      <td>Private</td>\n",
              "      <td>154374</td>\n",
              "      <td>HS-grad</td>\n",
              "      <td>9</td>\n",
              "      <td>Married-civ-spouse</td>\n",
              "      <td>Machine-op-inspct</td>\n",
              "      <td>Husband</td>\n",
              "      <td>White</td>\n",
              "      <td>Male</td>\n",
              "      <td>0</td>\n",
              "      <td>0</td>\n",
              "      <td>40</td>\n",
              "      <td>United-States</td>\n",
              "      <td>&gt;50K</td>\n",
              "    </tr>\n",
              "    <tr>\n",
              "      <th>32559</th>\n",
              "      <td>58</td>\n",
              "      <td>Private</td>\n",
              "      <td>151910</td>\n",
              "      <td>HS-grad</td>\n",
              "      <td>9</td>\n",
              "      <td>Widowed</td>\n",
              "      <td>Adm-clerical</td>\n",
              "      <td>Unmarried</td>\n",
              "      <td>White</td>\n",
              "      <td>Female</td>\n",
              "      <td>0</td>\n",
              "      <td>0</td>\n",
              "      <td>40</td>\n",
              "      <td>United-States</td>\n",
              "      <td>&lt;=50K</td>\n",
              "    </tr>\n",
              "    <tr>\n",
              "      <th>32560</th>\n",
              "      <td>22</td>\n",
              "      <td>Private</td>\n",
              "      <td>201490</td>\n",
              "      <td>HS-grad</td>\n",
              "      <td>9</td>\n",
              "      <td>Never-married</td>\n",
              "      <td>Adm-clerical</td>\n",
              "      <td>Own-child</td>\n",
              "      <td>White</td>\n",
              "      <td>Male</td>\n",
              "      <td>0</td>\n",
              "      <td>0</td>\n",
              "      <td>20</td>\n",
              "      <td>United-States</td>\n",
              "      <td>&lt;=50K</td>\n",
              "    </tr>\n",
              "  </tbody>\n",
              "</table>\n",
              "</div>\n",
              "      <button class=\"colab-df-convert\" onclick=\"convertToInteractive('df-e22d19a6-002c-40bb-af66-275c4205209d')\"\n",
              "              title=\"Convert this dataframe to an interactive table.\"\n",
              "              style=\"display:none;\">\n",
              "        \n",
              "  <svg xmlns=\"http://www.w3.org/2000/svg\" height=\"24px\"viewBox=\"0 0 24 24\"\n",
              "       width=\"24px\">\n",
              "    <path d=\"M0 0h24v24H0V0z\" fill=\"none\"/>\n",
              "    <path d=\"M18.56 5.44l.94 2.06.94-2.06 2.06-.94-2.06-.94-.94-2.06-.94 2.06-2.06.94zm-11 1L8.5 8.5l.94-2.06 2.06-.94-2.06-.94L8.5 2.5l-.94 2.06-2.06.94zm10 10l.94 2.06.94-2.06 2.06-.94-2.06-.94-.94-2.06-.94 2.06-2.06.94z\"/><path d=\"M17.41 7.96l-1.37-1.37c-.4-.4-.92-.59-1.43-.59-.52 0-1.04.2-1.43.59L10.3 9.45l-7.72 7.72c-.78.78-.78 2.05 0 2.83L4 21.41c.39.39.9.59 1.41.59.51 0 1.02-.2 1.41-.59l7.78-7.78 2.81-2.81c.8-.78.8-2.07 0-2.86zM5.41 20L4 18.59l7.72-7.72 1.47 1.35L5.41 20z\"/>\n",
              "  </svg>\n",
              "      </button>\n",
              "      \n",
              "  <style>\n",
              "    .colab-df-container {\n",
              "      display:flex;\n",
              "      flex-wrap:wrap;\n",
              "      gap: 12px;\n",
              "    }\n",
              "\n",
              "    .colab-df-convert {\n",
              "      background-color: #E8F0FE;\n",
              "      border: none;\n",
              "      border-radius: 50%;\n",
              "      cursor: pointer;\n",
              "      display: none;\n",
              "      fill: #1967D2;\n",
              "      height: 32px;\n",
              "      padding: 0 0 0 0;\n",
              "      width: 32px;\n",
              "    }\n",
              "\n",
              "    .colab-df-convert:hover {\n",
              "      background-color: #E2EBFA;\n",
              "      box-shadow: 0px 1px 2px rgba(60, 64, 67, 0.3), 0px 1px 3px 1px rgba(60, 64, 67, 0.15);\n",
              "      fill: #174EA6;\n",
              "    }\n",
              "\n",
              "    [theme=dark] .colab-df-convert {\n",
              "      background-color: #3B4455;\n",
              "      fill: #D2E3FC;\n",
              "    }\n",
              "\n",
              "    [theme=dark] .colab-df-convert:hover {\n",
              "      background-color: #434B5C;\n",
              "      box-shadow: 0px 1px 3px 1px rgba(0, 0, 0, 0.15);\n",
              "      filter: drop-shadow(0px 1px 2px rgba(0, 0, 0, 0.3));\n",
              "      fill: #FFFFFF;\n",
              "    }\n",
              "  </style>\n",
              "\n",
              "      <script>\n",
              "        const buttonEl =\n",
              "          document.querySelector('#df-e22d19a6-002c-40bb-af66-275c4205209d button.colab-df-convert');\n",
              "        buttonEl.style.display =\n",
              "          google.colab.kernel.accessAllowed ? 'block' : 'none';\n",
              "\n",
              "        async function convertToInteractive(key) {\n",
              "          const element = document.querySelector('#df-e22d19a6-002c-40bb-af66-275c4205209d');\n",
              "          const dataTable =\n",
              "            await google.colab.kernel.invokeFunction('convertToInteractive',\n",
              "                                                     [key], {});\n",
              "          if (!dataTable) return;\n",
              "\n",
              "          const docLinkHtml = 'Like what you see? Visit the ' +\n",
              "            '<a target=\"_blank\" href=https://colab.research.google.com/notebooks/data_table.ipynb>data table notebook</a>'\n",
              "            + ' to learn more about interactive tables.';\n",
              "          element.innerHTML = '';\n",
              "          dataTable['output_type'] = 'display_data';\n",
              "          await google.colab.output.renderOutput(dataTable, element);\n",
              "          const docLink = document.createElement('div');\n",
              "          docLink.innerHTML = docLinkHtml;\n",
              "          element.appendChild(docLink);\n",
              "        }\n",
              "      </script>\n",
              "    </div>\n",
              "  </div>\n",
              "  "
            ]
          },
          "metadata": {},
          "execution_count": 113
        }
      ]
    },
    {
      "cell_type": "markdown",
      "source": [
        "## Features description\n",
        "\n",
        "* age: continuous.\n",
        "* workclass: Private, Self-emp-not-inc, Self-emp-inc, Federal-gov, Local-gov, State-gov, Without-pay, Never-worked.\n",
        "* fnlwgt: continuous.\n",
        "* education: Bachelors, Some-college, 11th, HS-grad, Prof-school, Assoc-acdm, Assoc-voc, 9th, 7th-8th, 12th, Masters, 1st-4th, 10th, Doctorate, 5th-6th, Preschool.\n",
        "* education-num: continuous.\n",
        "marital-status: Married-civ-spouse, Divorced, Never-married, Separated, Widowed, Married-spouse-absent, Married-AF-spouse.\n",
        "occupation: Tech-support, Craft-repair, Other-service, Sales, Exec-managerial, Prof-specialty, Handlers-cleaners, Machine-op-inspct, Adm-clerical, Farming-fishing, Transport-moving, Priv-house-serv, Protective-serv, Armed-Forces.\n",
        "* relationship: Wife, Own-child, Husband, Not-in-family, Other-relative, Unmarried.\n",
        "* race: White, Asian-Pac-Islander, Amer-Indian-Eskimo, Other, Black.\n",
        "* sex: Female, Male.\n",
        "* capital-gain: continuous.\n",
        "* capital-loss: continuous.\n",
        "* hours-per-week: continuous.\n",
        "* native-country: United-States, Cambodia, England, Puerto-Rico, Canada, Germany, Outlying-US(Guam-USVI-etc), India, Japan, Greece, South, China, Cuba, Iran, Honduras, Philippines, Italy, Poland, Jamaica, Vietnam, Mexico, Portugal, Ireland, France, Dominican-Republic, Laos, Ecuador, Taiwan, Haiti, Columbia, Hungary, Guatemala, Nicaragua, Scotland, Thailand, Yugoslavia, El-Salvador, Trinadad&Tobago, Peru, Hong, Holand-Netherlands.\n",
        "* class: >50K, <=50K"
      ],
      "metadata": {
        "id": "6fX_V8Pw6vub"
      }
    },
    {
      "cell_type": "markdown",
      "source": [
        "## 3.0 Tratamento de dados"
      ],
      "metadata": {
        "id": "RbVJOxKmIP8r"
      }
    },
    {
      "cell_type": "markdown",
      "source": [
        "Certas instâncias estão caracterizadas por \"?\", logo, espera-se que sejam valores faltantes e tamném não sabemos a quantidade de instâncias como esta pertencem a cada feature do nosso daraframe."
      ],
      "metadata": {
        "id": "iXFsCVbBytsu"
      }
    },
    {
      "cell_type": "code",
      "source": [
        "df = df.replace(\"?\", np.nan)"
      ],
      "metadata": {
        "id": "oef_B6JaIKHP"
      },
      "execution_count": 114,
      "outputs": []
    },
    {
      "cell_type": "code",
      "source": [
        "display(df.isnull().sum())\n",
        "df = df.dropna()\n",
        "print(\"\\nRetira faltantes...\\nTotal de valores faltantes:\")\n",
        "display(df.isnull().sum().sum())"
      ],
      "metadata": {
        "colab": {
          "base_uri": "https://localhost:8080/",
          "height": 364
        },
        "id": "-8A5ETJPIXQ7",
        "outputId": "c59a93df-6fc5-44c3-b6b9-f9b5fa214d3a"
      },
      "execution_count": 115,
      "outputs": [
        {
          "output_type": "display_data",
          "data": {
            "text/plain": [
              "age                  0\n",
              "workclass         1836\n",
              "fnlwgt               0\n",
              "education            0\n",
              "education.num        0\n",
              "marital.status       0\n",
              "occupation        1843\n",
              "relationship         0\n",
              "race                 0\n",
              "sex                  0\n",
              "capital.gain         0\n",
              "capital.loss         0\n",
              "hours.per.week       0\n",
              "native.country     583\n",
              "income               0\n",
              "dtype: int64"
            ]
          },
          "metadata": {}
        },
        {
          "output_type": "stream",
          "name": "stdout",
          "text": [
            "\n",
            "Retira faltantes...\n",
            "Total de valores faltantes:\n"
          ]
        },
        {
          "output_type": "display_data",
          "data": {
            "text/plain": [
              "0"
            ]
          },
          "metadata": {}
        }
      ]
    },
    {
      "cell_type": "code",
      "source": [
        "df.info()"
      ],
      "metadata": {
        "colab": {
          "base_uri": "https://localhost:8080/"
        },
        "id": "Onc1x94NNx6w",
        "outputId": "a8b9f7d3-9c6a-4291-8257-dede364be69c"
      },
      "execution_count": 116,
      "outputs": [
        {
          "output_type": "stream",
          "name": "stdout",
          "text": [
            "<class 'pandas.core.frame.DataFrame'>\n",
            "Int64Index: 30162 entries, 1 to 32560\n",
            "Data columns (total 15 columns):\n",
            " #   Column          Non-Null Count  Dtype \n",
            "---  ------          --------------  ----- \n",
            " 0   age             30162 non-null  int64 \n",
            " 1   workclass       30162 non-null  object\n",
            " 2   fnlwgt          30162 non-null  int64 \n",
            " 3   education       30162 non-null  object\n",
            " 4   education.num   30162 non-null  int64 \n",
            " 5   marital.status  30162 non-null  object\n",
            " 6   occupation      30162 non-null  object\n",
            " 7   relationship    30162 non-null  object\n",
            " 8   race            30162 non-null  object\n",
            " 9   sex             30162 non-null  object\n",
            " 10  capital.gain    30162 non-null  int64 \n",
            " 11  capital.loss    30162 non-null  int64 \n",
            " 12  hours.per.week  30162 non-null  int64 \n",
            " 13  native.country  30162 non-null  object\n",
            " 14  income          30162 non-null  object\n",
            "dtypes: int64(6), object(9)\n",
            "memory usage: 3.7+ MB\n"
          ]
        }
      ]
    },
    {
      "cell_type": "markdown",
      "source": [
        "* O interessante de termos uma distribuição de idades é que podemos entender se existe alguma faixa etária em específico que possui uma carga horária de serviço mais elevada comparada a outras, assim como também conseguimos enxergar qual faixa etário consegue ter renda maior que 50K. Logo, iremos criar uma feature nova para criar nossos intervalores, mais ou menos faixas etárias."
      ],
      "metadata": {
        "id": "6jQWgITOJaPl"
      }
    },
    {
      "cell_type": "code",
      "source": [
        "df[\"age_bins\"] = pd.cut(\n",
        "    x=df[\"age\"],\n",
        "    bins=[1, 17, 18, 30, 40, 50, 60, 70, 80, 90, 100],\n",
        ")"
      ],
      "metadata": {
        "id": "ejq58ahLC4i5"
      },
      "execution_count": 117,
      "outputs": []
    },
    {
      "cell_type": "markdown",
      "source": [
        "## 4.0 Visualização de dados"
      ],
      "metadata": {
        "id": "Jb7-IDUMPDCx"
      }
    },
    {
      "cell_type": "code",
      "source": [
        "df.hist(bins=50, figsize=(30,12));"
      ],
      "metadata": {
        "colab": {
          "base_uri": "https://localhost:8080/",
          "height": 716
        },
        "id": "IklCtbm0RXXC",
        "outputId": "8513d4cd-948a-449b-8cb0-73d4877dbc3c"
      },
      "execution_count": 118,
      "outputs": [
        {
          "output_type": "display_data",
          "data": {
            "text/plain": [
              "<Figure size 2160x864 with 6 Axes>"
            ],
            "image/png": "[encoded data removed]"
          },
          "metadata": {}
        }
      ]
    },
    {
      "cell_type": "markdown",
      "source": [
        "* Ao analisar o histograma da distribuição de idades da nossa tabela, conseguimos visualizar que existe uma quantidade consideravel de pessoas de 20 a 50 anos, porém, podemos também visualizar que pode existir certos intervalores de idades que estão fora do comum. Por exemplo, de 30 - 35 anos temos uma quantidade significativa de pessoas.\n",
        "\n",
        "* Vale salientar, o comportamento de horas de serviço por semana, em que podemos definir uma carga horária comum de 40 - 55 horas de serviço, qual seria a idade e o tipo de serviço que essas pessoas possuem e prestam? "
      ],
      "metadata": {
        "id": "lAvuROqQ0LC4"
      }
    },
    {
      "cell_type": "code",
      "source": [
        "df.groupby('age_bins').agg({'hours.per.week':'mean',\n",
        "                            'age_bins':'count'}).style.highlight_max(axis=0, color='grey')"
      ],
      "metadata": {
        "colab": {
          "base_uri": "https://localhost:8080/",
          "height": 394
        },
        "id": "74FANgJeKTad",
        "outputId": "cf599254-94a5-4cd3-f5e4-a1f85d0614d9"
      },
      "execution_count": 119,
      "outputs": [
        {
          "output_type": "execute_result",
          "data": {
            "text/plain": [
              "<pandas.io.formats.style.Styler at 0x7ff300f4d810>"
            ],
            "text/html": [
              "<style type=\"text/css\">\n",
              "#T_5d998_row2_col1, #T_5d998_row3_col0 {\n",
              "  background-color: grey;\n",
              "}\n",
              "</style>\n",
              "<table id=\"T_5d998_\" class=\"dataframe\">\n",
              "  <thead>\n",
              "    <tr>\n",
              "      <th class=\"blank level0\" >&nbsp;</th>\n",
              "      <th class=\"col_heading level0 col0\" >hours.per.week</th>\n",
              "      <th class=\"col_heading level0 col1\" >age_bins</th>\n",
              "    </tr>\n",
              "    <tr>\n",
              "      <th class=\"index_name level0\" >age_bins</th>\n",
              "      <th class=\"blank col0\" >&nbsp;</th>\n",
              "      <th class=\"blank col1\" >&nbsp;</th>\n",
              "    </tr>\n",
              "  </thead>\n",
              "  <tbody>\n",
              "    <tr>\n",
              "      <th id=\"T_5d998_level0_row0\" class=\"row_heading level0 row0\" >(1, 17]</th>\n",
              "      <td id=\"T_5d998_row0_col0\" class=\"data row0 col0\" >20.378049</td>\n",
              "      <td id=\"T_5d998_row0_col1\" class=\"data row0 col1\" >328</td>\n",
              "    </tr>\n",
              "    <tr>\n",
              "      <th id=\"T_5d998_level0_row1\" class=\"row_heading level0 row1\" >(17, 18]</th>\n",
              "      <td id=\"T_5d998_row1_col0\" class=\"data row1 col0\" >25.167785</td>\n",
              "      <td id=\"T_5d998_row1_col1\" class=\"data row1 col1\" >447</td>\n",
              "    </tr>\n",
              "    <tr>\n",
              "      <th id=\"T_5d998_level0_row2\" class=\"row_heading level0 row2\" >(18, 30]</th>\n",
              "      <td id=\"T_5d998_row2_col0\" class=\"data row2 col0\" >38.650306</td>\n",
              "      <td id=\"T_5d998_row2_col1\" class=\"data row2 col1\" >8822</td>\n",
              "    </tr>\n",
              "    <tr>\n",
              "      <th id=\"T_5d998_level0_row3\" class=\"row_heading level0 row3\" >(30, 40]</th>\n",
              "      <td id=\"T_5d998_row3_col0\" class=\"data row3 col0\" >43.537547</td>\n",
              "      <td id=\"T_5d998_row3_col1\" class=\"data row3 col1\" >8163</td>\n",
              "    </tr>\n",
              "    <tr>\n",
              "      <th id=\"T_5d998_level0_row4\" class=\"row_heading level0 row4\" >(40, 50]</th>\n",
              "      <td id=\"T_5d998_row4_col0\" class=\"data row4 col0\" >43.496125</td>\n",
              "      <td id=\"T_5d998_row4_col1\" class=\"data row4 col1\" >6710</td>\n",
              "    </tr>\n",
              "    <tr>\n",
              "      <th id=\"T_5d998_level0_row5\" class=\"row_heading level0 row5\" >(50, 60]</th>\n",
              "      <td id=\"T_5d998_row5_col0\" class=\"data row5 col0\" >42.619403</td>\n",
              "      <td id=\"T_5d998_row5_col1\" class=\"data row5 col1\" >3886</td>\n",
              "    </tr>\n",
              "    <tr>\n",
              "      <th id=\"T_5d998_level0_row6\" class=\"row_heading level0 row6\" >(60, 70]</th>\n",
              "      <td id=\"T_5d998_row6_col0\" class=\"data row6 col0\" >36.345288</td>\n",
              "      <td id=\"T_5d998_row6_col1\" class=\"data row6 col1\" >1422</td>\n",
              "    </tr>\n",
              "    <tr>\n",
              "      <th id=\"T_5d998_level0_row7\" class=\"row_heading level0 row7\" >(70, 80]</th>\n",
              "      <td id=\"T_5d998_row7_col0\" class=\"data row7 col0\" >27.828479</td>\n",
              "      <td id=\"T_5d998_row7_col1\" class=\"data row7 col1\" >309</td>\n",
              "    </tr>\n",
              "    <tr>\n",
              "      <th id=\"T_5d998_level0_row8\" class=\"row_heading level0 row8\" >(80, 90]</th>\n",
              "      <td id=\"T_5d998_row8_col0\" class=\"data row8 col0\" >33.386667</td>\n",
              "      <td id=\"T_5d998_row8_col1\" class=\"data row8 col1\" >75</td>\n",
              "    </tr>\n",
              "    <tr>\n",
              "      <th id=\"T_5d998_level0_row9\" class=\"row_heading level0 row9\" >(90, 100]</th>\n",
              "      <td id=\"T_5d998_row9_col0\" class=\"data row9 col0\" >nan</td>\n",
              "      <td id=\"T_5d998_row9_col1\" class=\"data row9 col1\" >0</td>\n",
              "    </tr>\n",
              "  </tbody>\n",
              "</table>\n"
            ]
          },
          "metadata": {},
          "execution_count": 119
        }
      ]
    },
    {
      "cell_type": "markdown",
      "source": [
        "* Interessante olharmos para a tebale acima, conseguimos perceber que a maior média de horas de serviço é o grupo de faixa etária de 30-40 anos. Mas, analisando essas faixas, vamos identidentificar se existe uma relação de carga horário e ganhar mais ou menos que 50k"
      ],
      "metadata": {
        "id": "y4TlcikQNhWn"
      }
    },
    {
      "cell_type": "code",
      "source": [
        "sn.set_style(\"white\")\n",
        "f, ax = plt.subplots(figsize=(20, 10))\n",
        "box_plot = sn.boxplot(x=\"age_bins\", y=\"hours.per.week\", hue='income', data=df)\n",
        "\n",
        "medians = df.groupby(['age_bins'])['hours.per.week'].median()\n",
        "vertical_offset = df['hours.per.week'].median() * 0.05 # offset from median for display\n",
        "\n",
        "for xtick in box_plot.get_xticks():\n",
        "    box_plot.text(xtick,medians[xtick] + vertical_offset,medians[xtick], \n",
        "            horizontalalignment='center', size=10, color='w', weight='semibold', bbox=dict(facecolor='#445A64'))\n",
        "ax.set_title('Distribuição de horas de serviço por faixa etária', fontsize=15)\n",
        "ax.set_xlabel('Horas de serviço', fontsize=12)\n",
        "ax.set_ylabel('Faixa', fontsize=12)\n",
        "ax;"
      ],
      "metadata": {
        "colab": {
          "base_uri": "https://localhost:8080/",
          "height": 680
        },
        "id": "LjSYJpy6N6Qc",
        "outputId": "95e104be-e495-4f45-a758-83d5b6aa9b35"
      },
      "execution_count": 120,
      "outputs": [
        {
          "output_type": "stream",
          "name": "stderr",
          "text": [
            "posx and posy should be finite values\n",
            "posx and posy should be finite values\n",
            "posx and posy should be finite values\n"
          ]
        },
        {
          "output_type": "display_data",
          "data": {
            "text/plain": [
              "<Figure size 1440x720 with 1 Axes>"
            ],
            "image/png": "[encoded data removed]"
          },
          "metadata": {}
        }
      ]
    },
    {
      "cell_type": "code",
      "source": [
        "f, ax = plt.subplots(figsize=(20, 10))\n",
        "sn.countplot(y='occupation', hue='income', data=df, orient='h')\n",
        "ax.set_title('QUANTIDADE x OCUPAÇÃO', fontsize=12)\n",
        "ax.set_xlabel('Quantidade', fontsize=10)\n",
        "ax.set_ylabel('Ocupação', fontsize=10)\n",
        "ax"
      ],
      "metadata": {
        "colab": {
          "base_uri": "https://localhost:8080/",
          "height": 640
        },
        "id": "q_wbddU3Pyqt",
        "outputId": "64e05aa6-463b-4003-ba25-71fb079d6f2b"
      },
      "execution_count": 121,
      "outputs": [
        {
          "output_type": "execute_result",
          "data": {
            "text/plain": [
              "<matplotlib.axes._subplots.AxesSubplot at 0x7ff300cb5990>"
            ]
          },
          "metadata": {},
          "execution_count": 121
        },
        {
          "output_type": "display_data",
          "data": {
            "text/plain": [
              "<Figure size 1440x720 with 1 Axes>"
            ],
            "image/png": "[encoded data removed]"
          },
          "metadata": {}
        }
      ]
    },
    {
      "cell_type": "code",
      "source": [
        "f, ax = plt.subplots(figsize=(20, 10))\n",
        "sn.countplot(y='education', data=df, orient='h', hue='income')\n",
        "ax.set_title('QUANTIDADE x EDUCAÇÃO', fontsize=12)\n",
        "ax.set_xlabel('Quantidade', fontsize=10)\n",
        "ax.set_ylabel('Formação escolar-acadêmica', fontsize=10)\n",
        "ax"
      ],
      "metadata": {
        "colab": {
          "base_uri": "https://localhost:8080/",
          "height": 640
        },
        "id": "yMmNUk4rPGAw",
        "outputId": "a6ae8ca7-cefd-4825-b209-237df836fa4f"
      },
      "execution_count": 122,
      "outputs": [
        {
          "output_type": "execute_result",
          "data": {
            "text/plain": [
              "<matplotlib.axes._subplots.AxesSubplot at 0x7ff300bf4850>"
            ]
          },
          "metadata": {},
          "execution_count": 122
        },
        {
          "output_type": "display_data",
          "data": {
            "text/plain": [
              "<Figure size 1440x720 with 1 Axes>"
            ],
            "image/png": "[encoded data removed]"
          },
          "metadata": {}
        }
      ]
    },
    {
      "cell_type": "markdown",
      "source": [
        "* Para os dois gráficos acima, me chama a atenção certas características, mostra-se que, para as pessoas que chegam a ter uma renda maior que 50 mil, são pessoas que exercem cargos de especialista e gerência. Porém, vendas me chama atenção, já que de acordo com a quantidade, conquista o terceiro lugar no gráfico. Mas por qual motivo me chama atenção?\n",
        "\n",
        "* Bom, vamos analisar circuntâncias de escolaridade, uma pessoa que trabalha com vendas não necessariamente precisa ter uma formação acadêmica (o que é importante nós analisarmos juntos). Então, vamos analisar a seguir os seguintes fatores, como a educação pode ou não garantir uma renda maior que 50 mil? "
      ],
      "metadata": {
        "id": "k_tMrvGJ2dE5"
      }
    },
    {
      "cell_type": "markdown",
      "source": [
        "## 5.0 Testes e validações (TESTE A/B)"
      ],
      "metadata": {
        "id": "zVPps4PBm-r5"
      }
    },
    {
      "cell_type": "markdown",
      "source": [
        "### 5.1 Tratamento de dados"
      ],
      "metadata": {
        "id": "mk5VFWI4uAZ7"
      }
    },
    {
      "cell_type": "code",
      "source": [
        "trabalha_com_vendas = df.loc[df['occupation']=='Sales']\n",
        "## Beleza!!! Filtramos todas as pessoas que estão relacionadas a ocução de vendas\n",
        "\n",
        "## Para que possamos justificar algo, precisamos elaborar um pequeno teste A/B de grupos que possuem graus de escolaridade acima e abaixo da graduação\n",
        "trabalha_com_vendas['education'].value_counts()\n",
        "\n",
        "## Existe certas características que fogem do meu entendimento, então iremos focar nas principais escolaridades\n",
        "muda_valores = {\n",
        "    'HS-grad':'Graduado',\n",
        "    'Some-college':'Ensino_Medio'\n",
        "}\n",
        "\n",
        "trabalha_com_vendas['education'] = trabalha_com_vendas['education'].replace(muda_valores)\n",
        "trabalha_com_vendas = trabalha_com_vendas.loc[trabalha_com_vendas['education'].isin(['Graduado','Ensino_Medio'])]"
      ],
      "metadata": {
        "id": "ySUTKNo1gGvA"
      },
      "execution_count": 123,
      "outputs": []
    },
    {
      "cell_type": "code",
      "source": [
        "#O nosso grupo de controçle será as pessoas que não possuem Graduação\n",
        "grupo_de_controle = trabalha_com_vendas.loc[trabalha_com_vendas['education'] == 'Ensino_Medio']\n",
        "grupo_de_controle = grupo_de_controle.sample(frac = 0.75, random_state=42)[['education','income']]\n",
        "\n",
        "#O grupo experimental será das pessoas que de alguma forma conseguiram a oportunidade/tiveram o privilégio de garantir uma vaga na faculdade\n",
        "grupo_experimental = trabalha_com_vendas.loc[trabalha_com_vendas['education'] == 'Graduado']\n",
        "grupo_experimental = grupo_experimental.sample(frac = 0.75, random_state=42)[['education','income']]\n",
        "\n",
        "grupo_de_controle['grupo'] = 'controle'\n",
        "grupo_experimental['grupo'] = 'experimental'\n",
        "\n",
        "display(grupo_de_controle.shape, grupo_experimental.shape)\n",
        "\n",
        "teste_a_b = pd.concat([grupo_de_controle, grupo_experimental]).reset_index(drop=True)"
      ],
      "metadata": {
        "id": "0RBFdtYn59U6",
        "colab": {
          "base_uri": "https://localhost:8080/",
          "height": 52
        },
        "outputId": "6cbab102-1ba2-4451-dc33-cdad53978870"
      },
      "execution_count": 124,
      "outputs": [
        {
          "output_type": "display_data",
          "data": {
            "text/plain": [
              "(747, 3)"
            ]
          },
          "metadata": {}
        },
        {
          "output_type": "display_data",
          "data": {
            "text/plain": [
              "(789, 3)"
            ]
          },
          "metadata": {}
        }
      ]
    },
    {
      "cell_type": "markdown",
      "source": [
        "### 5.1 Visualização de amostras"
      ],
      "metadata": {
        "id": "33dlwtl8uD6J"
      }
    },
    {
      "cell_type": "code",
      "source": [
        "np.unique(teste_a_b['income'], return_counts=True)"
      ],
      "metadata": {
        "colab": {
          "base_uri": "https://localhost:8080/"
        },
        "id": "jIcfGjKacI3S",
        "outputId": "0f50229b-02aa-4441-b352-f27578a52433"
      },
      "execution_count": 125,
      "outputs": [
        {
          "output_type": "execute_result",
          "data": {
            "text/plain": [
              "(array(['<=50K', '>50K'], dtype=object), array([1218,  318]))"
            ]
          },
          "metadata": {},
          "execution_count": 125
        }
      ]
    },
    {
      "cell_type": "code",
      "source": [
        "dict_income = {\n",
        "    '<=50K':0,\n",
        "    '>50K':1\n",
        "}\n",
        "\n",
        "teste_a_b['income'] = teste_a_b['income'].replace(dict_income)\n",
        "display(np.unique(teste_a_b['income'], return_counts=True))"
      ],
      "metadata": {
        "colab": {
          "base_uri": "https://localhost:8080/",
          "height": 34
        },
        "id": "29Vlw7ANcDny",
        "outputId": "213edba7-8ce3-4a2c-9d6c-76a13cc645ef"
      },
      "execution_count": 126,
      "outputs": [
        {
          "output_type": "display_data",
          "data": {
            "text/plain": [
              "(array([0, 1]), array([1218,  318]))"
            ]
          },
          "metadata": {}
        }
      ]
    },
    {
      "cell_type": "code",
      "source": [
        "teste_a_b['grupo'].value_counts()"
      ],
      "metadata": {
        "id": "Gr6mNmg2h7MQ",
        "colab": {
          "base_uri": "https://localhost:8080/"
        },
        "outputId": "f8ed49bd-4ed5-4822-bd04-989e47c8fdba"
      },
      "execution_count": 127,
      "outputs": [
        {
          "output_type": "execute_result",
          "data": {
            "text/plain": [
              "experimental    789\n",
              "controle        747\n",
              "Name: grupo, dtype: int64"
            ]
          },
          "metadata": {},
          "execution_count": 127
        }
      ]
    },
    {
      "cell_type": "markdown",
      "source": [
        "### 5.2 Modelagem estatística - resultados e conclusão"
      ],
      "metadata": {
        "id": "Inspij9suG7e"
      }
    },
    {
      "cell_type": "code",
      "source": [
        "conversion_rates = teste_a_b.groupby('grupo')['income']\n",
        "\n",
        "std_p = lambda x: np.std(x, ddof=0)              \n",
        "se_p = lambda x: stats.sem(x, ddof=0)           \n",
        "\n",
        "conversion_rates = conversion_rates.agg([np.mean, std_p, se_p])\n",
        "conversion_rates.columns = ['Taxa de conversão', 'Desvio Padrão', 'Erro padrão']\n",
        "\n",
        "\n",
        "conversion_rates.style.format('{:.3f}')"
      ],
      "metadata": {
        "id": "QuQN2vvrh7HO",
        "colab": {
          "base_uri": "https://localhost:8080/",
          "height": 143
        },
        "outputId": "246dfc83-a907-4e06-c220-77efe2601922"
      },
      "execution_count": 138,
      "outputs": [
        {
          "output_type": "execute_result",
          "data": {
            "text/plain": [
              "<pandas.io.formats.style.Styler at 0x7ff30098f250>"
            ],
            "text/html": [
              "<style type=\"text/css\">\n",
              "</style>\n",
              "<table id=\"T_e2ecd_\" class=\"dataframe\">\n",
              "  <thead>\n",
              "    <tr>\n",
              "      <th class=\"blank level0\" >&nbsp;</th>\n",
              "      <th class=\"col_heading level0 col0\" >Taxa de conversão</th>\n",
              "      <th class=\"col_heading level0 col1\" >Desvio Padrão</th>\n",
              "      <th class=\"col_heading level0 col2\" >Erro padrão</th>\n",
              "    </tr>\n",
              "    <tr>\n",
              "      <th class=\"index_name level0\" >grupo</th>\n",
              "      <th class=\"blank col0\" >&nbsp;</th>\n",
              "      <th class=\"blank col1\" >&nbsp;</th>\n",
              "      <th class=\"blank col2\" >&nbsp;</th>\n",
              "    </tr>\n",
              "  </thead>\n",
              "  <tbody>\n",
              "    <tr>\n",
              "      <th id=\"T_e2ecd_level0_row0\" class=\"row_heading level0 row0\" >controle</th>\n",
              "      <td id=\"T_e2ecd_row0_col0\" class=\"data row0 col0\" >0.216</td>\n",
              "      <td id=\"T_e2ecd_row0_col1\" class=\"data row0 col1\" >0.411</td>\n",
              "      <td id=\"T_e2ecd_row0_col2\" class=\"data row0 col2\" >0.015</td>\n",
              "    </tr>\n",
              "    <tr>\n",
              "      <th id=\"T_e2ecd_level0_row1\" class=\"row_heading level0 row1\" >experimental</th>\n",
              "      <td id=\"T_e2ecd_row1_col0\" class=\"data row1 col0\" >0.199</td>\n",
              "      <td id=\"T_e2ecd_row1_col1\" class=\"data row1 col1\" >0.399</td>\n",
              "      <td id=\"T_e2ecd_row1_col2\" class=\"data row1 col2\" >0.014</td>\n",
              "    </tr>\n",
              "  </tbody>\n",
              "</table>\n"
            ]
          },
          "metadata": {},
          "execution_count": 138
        }
      ]
    },
    {
      "cell_type": "markdown",
      "source": [
        "* Avaliando o grupo experimental, que são as pessoas que tiveram acesso a uma graduação, percebemos que a taxa de conversão é menor que a taxa de controle. Porém, isso não nos diz muita coisa, precisamos enxergar se essas taxas estão dentro do nosso intervalo de confiança e olhar para o nosso valor de P, no qual irá determinar se nosso teste é um teste válido ou não."
      ],
      "metadata": {
        "id": "HxlcoPH-qRpt"
      }
    },
    {
      "cell_type": "code",
      "source": [
        "controle_resultados = teste_a_b[teste_a_b['grupo'] == 'controle']['income']\n",
        "experimental_resultados = teste_a_b[teste_a_b['grupo'] == 'experimental']['income']\n",
        "\n",
        "pop_controle = controle_resultados.count()\n",
        "pop_exp = experimental_resultados.count()\n",
        "\n",
        "sucessos = [controle_resultados.sum(), experimental_resultados.sum()]\n",
        "numero_observacao = [pop_controle, pop_exp]\n",
        "\n",
        "z_stat, pval = proportions_ztest(sucessos, nobs=numero_observacao)\n",
        "\n",
        "(menor_cont, menor_exp), (maior_cont, maior_exp) = proportion_confint(sucessos, nobs=numero_observacao, alpha=0.5)\n",
        "\n",
        "print(f'Teste z: {z_stat:.2f}')\n",
        "print(f'Valor de p: {pval:.3f}')\n",
        "print(f'Intervalo de confiança 95% pelo grupo de controle: [{menor_cont:.3f}, {maior_cont:.3f}]')\n",
        "print(f'Intervalo de confiança 95% pelo grupo experimental: [{menor_exp:.3f}, {maior_exp:.3f}]')"
      ],
      "metadata": {
        "colab": {
          "base_uri": "https://localhost:8080/"
        },
        "id": "K4QAByp-mAmJ",
        "outputId": "150d3c60-3f23-4575-bc83-c9448eceb642"
      },
      "execution_count": 161,
      "outputs": [
        {
          "output_type": "stream",
          "name": "stdout",
          "text": [
            "Teste z: 0.80\n",
            "Valor de p: 0.424\n",
            "Intervalo de confiança 95% pelo grupo de controle: [0.205, 0.226]\n",
            "Intervalo de confiança 95% pelo grupo experimental: [0.189, 0.209]\n"
          ]
        }
      ]
    },
    {
      "cell_type": "markdown",
      "source": [
        "* Como discutimos anteriormente, o nosso valor de P está abaixo do valor pré-determinado do nosso experimento (0.42 < 0.5), então, podemos reinterar que para a ocupação de vendas, não necessariamente a escolaridade da pessoa influência na renda anual acima de 50k. Vale salientar que, nossas taxas de conversão estão contidas no intervalo de confiança apresentado.\n",
        "\n",
        "  * Para o grupo experimental, observamos que nosso intervalo de confiança confere [0.189, 0.209], em que inclui nosso valor de taxa de 19%.\n",
        "  * Para o grupo de controle, observamos que nosso intervalo de confiança confere [0.205, 0.226], em que inclui nosso valor de taxa de 21%."
      ],
      "metadata": {
        "id": "3m_bhg4Lq71Q"
      }
    },
    {
      "cell_type": "markdown",
      "source": [
        "## 6.0 Classificação\n",
        "\n",
        "* Agora que conhecemos bastante sobre os nossos dados, podemos desenvolver (modelar) arquiteturas de Machine Learning capazes de predizer quais características irão classificar pessoas que ganham (ou podem ganhar) acima de 50k anual. "
      ],
      "metadata": {
        "id": "oUVSRQTkt6f-"
      }
    },
    {
      "cell_type": "code",
      "source": [
        ""
      ],
      "metadata": {
        "id": "Qk1ltRQkpdRg"
      },
      "execution_count": null,
      "outputs": []
    }
  ]
}